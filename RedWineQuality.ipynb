{
  "nbformat": 4,
  "nbformat_minor": 0,
  "metadata": {
    "colab": {
      "name": "RedWineQuality.ipynb",
      "provenance": [],
      "collapsed_sections": [],
      "authorship_tag": "ABX9TyOZTEMVVV7UKGsFG7n1sstA",
      "include_colab_link": true
    },
    "kernelspec": {
      "name": "python3",
      "display_name": "Python 3"
    },
    "language_info": {
      "name": "python"
    }
  },
  "cells": [
    {
      "cell_type": "markdown",
      "metadata": {
        "id": "view-in-github",
        "colab_type": "text"
      },
      "source": [
        "<a href=\"https://colab.research.google.com/github/AnushkaMadhavi28/Wine-Quality-Prediction/blob/main/RedWineQuality.ipynb\" target=\"_parent\"><img src=\"https://colab.research.google.com/assets/colab-badge.svg\" alt=\"Open In Colab\"/></a>"
      ]
    },
    {
      "cell_type": "code",
      "metadata": {
        "id": "LiBNfTG56scW"
      },
      "source": [
        "import tensorflow as tf\n",
        "import pandas as pd\n",
        "import numpy as np\n",
        "from sklearn.svm import SVC\n",
        "from sklearn.linear_model import SGDClassifier\n",
        "from sklearn.metrics import confusion_matrix, classification_report\n",
        "from sklearn.preprocessing import StandardScaler, LabelEncoder\n",
        "from sklearn.model_selection import train_test_split, GridSearchCV, cross_val_score"
      ],
      "execution_count": 1,
      "outputs": []
    },
    {
      "cell_type": "code",
      "metadata": {
        "id": "2VZfs3NB9DFU"
      },
      "source": [
        "from sklearn.preprocessing import StandardScaler\n",
        "from sklearn.compose import make_column_transformer"
      ],
      "execution_count": 2,
      "outputs": []
    },
    {
      "cell_type": "code",
      "metadata": {
        "colab": {
          "base_uri": "https://localhost:8080/",
          "height": 204
        },
        "id": "VOfDWUBL9Msv",
        "outputId": "3dac592b-028e-44be-efd4-952afc27006b"
      },
      "source": [
        "red_wine = pd.read_csv('winequality.csv')\n",
        "red_wine.head()"
      ],
      "execution_count": 3,
      "outputs": [
        {
          "output_type": "execute_result",
          "data": {
            "text/html": [
              "<div>\n",
              "<style scoped>\n",
              "    .dataframe tbody tr th:only-of-type {\n",
              "        vertical-align: middle;\n",
              "    }\n",
              "\n",
              "    .dataframe tbody tr th {\n",
              "        vertical-align: top;\n",
              "    }\n",
              "\n",
              "    .dataframe thead th {\n",
              "        text-align: right;\n",
              "    }\n",
              "</style>\n",
              "<table border=\"1\" class=\"dataframe\">\n",
              "  <thead>\n",
              "    <tr style=\"text-align: right;\">\n",
              "      <th></th>\n",
              "      <th>fixed acidity</th>\n",
              "      <th>volatile acidity</th>\n",
              "      <th>citric acid</th>\n",
              "      <th>residual sugar</th>\n",
              "      <th>chlorides</th>\n",
              "      <th>free sulfur dioxide</th>\n",
              "      <th>total sulfur dioxide</th>\n",
              "      <th>density</th>\n",
              "      <th>pH</th>\n",
              "      <th>sulphates</th>\n",
              "      <th>alcohol</th>\n",
              "      <th>quality</th>\n",
              "    </tr>\n",
              "  </thead>\n",
              "  <tbody>\n",
              "    <tr>\n",
              "      <th>0</th>\n",
              "      <td>7.4</td>\n",
              "      <td>0.70</td>\n",
              "      <td>0.00</td>\n",
              "      <td>1.9</td>\n",
              "      <td>0.076</td>\n",
              "      <td>11.0</td>\n",
              "      <td>34.0</td>\n",
              "      <td>0.9978</td>\n",
              "      <td>3.51</td>\n",
              "      <td>0.56</td>\n",
              "      <td>9.4</td>\n",
              "      <td>5</td>\n",
              "    </tr>\n",
              "    <tr>\n",
              "      <th>1</th>\n",
              "      <td>7.8</td>\n",
              "      <td>0.88</td>\n",
              "      <td>0.00</td>\n",
              "      <td>2.6</td>\n",
              "      <td>0.098</td>\n",
              "      <td>25.0</td>\n",
              "      <td>67.0</td>\n",
              "      <td>0.9968</td>\n",
              "      <td>3.20</td>\n",
              "      <td>0.68</td>\n",
              "      <td>9.8</td>\n",
              "      <td>5</td>\n",
              "    </tr>\n",
              "    <tr>\n",
              "      <th>2</th>\n",
              "      <td>7.8</td>\n",
              "      <td>0.76</td>\n",
              "      <td>0.04</td>\n",
              "      <td>2.3</td>\n",
              "      <td>0.092</td>\n",
              "      <td>15.0</td>\n",
              "      <td>54.0</td>\n",
              "      <td>0.9970</td>\n",
              "      <td>3.26</td>\n",
              "      <td>0.65</td>\n",
              "      <td>9.8</td>\n",
              "      <td>5</td>\n",
              "    </tr>\n",
              "    <tr>\n",
              "      <th>3</th>\n",
              "      <td>11.2</td>\n",
              "      <td>0.28</td>\n",
              "      <td>0.56</td>\n",
              "      <td>1.9</td>\n",
              "      <td>0.075</td>\n",
              "      <td>17.0</td>\n",
              "      <td>60.0</td>\n",
              "      <td>0.9980</td>\n",
              "      <td>3.16</td>\n",
              "      <td>0.58</td>\n",
              "      <td>9.8</td>\n",
              "      <td>6</td>\n",
              "    </tr>\n",
              "    <tr>\n",
              "      <th>4</th>\n",
              "      <td>7.4</td>\n",
              "      <td>0.70</td>\n",
              "      <td>0.00</td>\n",
              "      <td>1.9</td>\n",
              "      <td>0.076</td>\n",
              "      <td>11.0</td>\n",
              "      <td>34.0</td>\n",
              "      <td>0.9978</td>\n",
              "      <td>3.51</td>\n",
              "      <td>0.56</td>\n",
              "      <td>9.4</td>\n",
              "      <td>5</td>\n",
              "    </tr>\n",
              "  </tbody>\n",
              "</table>\n",
              "</div>"
            ],
            "text/plain": [
              "   fixed acidity  volatile acidity  citric acid  ...  sulphates  alcohol  quality\n",
              "0            7.4              0.70         0.00  ...       0.56      9.4        5\n",
              "1            7.8              0.88         0.00  ...       0.68      9.8        5\n",
              "2            7.8              0.76         0.04  ...       0.65      9.8        5\n",
              "3           11.2              0.28         0.56  ...       0.58      9.8        6\n",
              "4            7.4              0.70         0.00  ...       0.56      9.4        5\n",
              "\n",
              "[5 rows x 12 columns]"
            ]
          },
          "metadata": {},
          "execution_count": 3
        }
      ]
    },
    {
      "cell_type": "code",
      "metadata": {
        "colab": {
          "base_uri": "https://localhost:8080/"
        },
        "id": "H1HiVfg89XEz",
        "outputId": "c88d0ef3-aa3e-48b6-d2e6-0bb8d9b59375"
      },
      "source": [
        "red_wine.columns"
      ],
      "execution_count": 4,
      "outputs": [
        {
          "output_type": "execute_result",
          "data": {
            "text/plain": [
              "Index(['fixed acidity', 'volatile acidity', 'citric acid', 'residual sugar',\n",
              "       'chlorides', 'free sulfur dioxide', 'total sulfur dioxide', 'density',\n",
              "       'pH', 'sulphates', 'alcohol', 'quality'],\n",
              "      dtype='object')"
            ]
          },
          "metadata": {},
          "execution_count": 4
        }
      ]
    },
    {
      "cell_type": "code",
      "metadata": {
        "colab": {
          "base_uri": "https://localhost:8080/"
        },
        "id": "hgdOci9cLcc5",
        "outputId": "d0099d92-5486-4a28-9d2e-1e032ac310f3"
      },
      "source": [
        "features_num = ['fixed acidity', 'volatile acidity',\t'citric acid',\t'residual sugar',\t'chlorides',\t'free sulfur dioxide',\t'total sulfur dioxide',\t'density',\t'pH',\t'sulphates',\t'alcohol']\n",
        "features_num"
      ],
      "execution_count": 5,
      "outputs": [
        {
          "output_type": "execute_result",
          "data": {
            "text/plain": [
              "['fixed acidity',\n",
              " 'volatile acidity',\n",
              " 'citric acid',\n",
              " 'residual sugar',\n",
              " 'chlorides',\n",
              " 'free sulfur dioxide',\n",
              " 'total sulfur dioxide',\n",
              " 'density',\n",
              " 'pH',\n",
              " 'sulphates',\n",
              " 'alcohol']"
            ]
          },
          "metadata": {},
          "execution_count": 5
        }
      ]
    },
    {
      "cell_type": "code",
      "metadata": {
        "id": "ps43_6fu9d4I"
      },
      "source": [
        "preprocessor = make_column_transformer(\n",
        "    (StandardScaler(), features_num)\n",
        ") "
      ],
      "execution_count": 6,
      "outputs": []
    },
    {
      "cell_type": "code",
      "metadata": {
        "id": "TTaPKtRHMYjq"
      },
      "source": [
        "from tensorflow import keras\n",
        "from tensorflow.keras import layers, callbacks\n",
        "\n",
        "\n",
        "#Create training and validation splits\n",
        "df_train = red_wine.sample(frac=0.7, random_state=12)\n",
        "df_valid = red_wine.drop(df_train.index)"
      ],
      "execution_count": 7,
      "outputs": []
    },
    {
      "cell_type": "code",
      "metadata": {
        "id": "U131hNpEM67o"
      },
      "source": [
        "x_train = df_train.drop('quality', axis=1)\n",
        "x_valid = df_valid.drop('quality', axis=1)\n",
        "\n",
        "x_train = preprocessor.fit_transform(x_train)\n",
        "x_valid = preprocessor.transform(x_valid)\n",
        "\n",
        "y_train = df_train['quality']\n",
        "y_valid = df_valid['quality']"
      ],
      "execution_count": 8,
      "outputs": []
    },
    {
      "cell_type": "code",
      "metadata": {
        "colab": {
          "base_uri": "https://localhost:8080/"
        },
        "id": "rVTWvWzXN7fc",
        "outputId": "2a641c30-97d7-4c40-99f1-86971106f8ed"
      },
      "source": [
        "input_shape = x_train.shape[1]\n",
        "print(input_shape)"
      ],
      "execution_count": 9,
      "outputs": [
        {
          "output_type": "stream",
          "name": "stdout",
          "text": [
            "11\n"
          ]
        }
      ]
    },
    {
      "cell_type": "code",
      "metadata": {
        "colab": {
          "base_uri": "https://localhost:8080/"
        },
        "id": "3F9HGCVEOOnb",
        "outputId": "78e65312-f265-460c-d3a7-6d3bd79bf325"
      },
      "source": [
        "x_train[:,0].mean() , x_train[:,0].std()"
      ],
      "execution_count": 10,
      "outputs": [
        {
          "output_type": "execute_result",
          "data": {
            "text/plain": [
              "(5.016342817251824e-16, 1.0)"
            ]
          },
          "metadata": {},
          "execution_count": 10
        }
      ]
    },
    {
      "cell_type": "code",
      "metadata": {
        "colab": {
          "base_uri": "https://localhost:8080/",
          "height": 287
        },
        "id": "_57Gw4s9Obby",
        "outputId": "6d1ff8a4-c660-4fa2-84e6-1515b32cd8bf"
      },
      "source": [
        "early_stopping = callbacks.EarlyStopping(\n",
        "    min_delta = 0.001,  #minimum amount of change to count as an improvement\n",
        "    patience = 20,  #how many epochs to wait before stopping\n",
        "    restore_best_weights=True,\n",
        ")\n",
        "\n",
        "model = keras.Sequential([\n",
        "    #the hidden relu layers\n",
        "    layers.Dense(units=20, activation='relu', input_shape=[input_shape]),\n",
        "    layers.Dropout(0.60),\n",
        "    layers.BatchNormalization(),\n",
        "    layers.Dense(units=20, activation='relu', input_shape=[input_shape]),\n",
        "    layers.Dropout(0.60),\n",
        "    layers.BatchNormalization(),\n",
        "    layers.Dense(units=20, activation='relu', input_shape=[input_shape]),\n",
        "    layers.Dropout(0.60),\n",
        "    layers.BatchNormalization(),\n",
        "    layers.Dense(units=20, activation='relu', input_shape=[input_shape]),\n",
        "    layers.Dropout(0.60),\n",
        "    layers.BatchNormalization(),\n",
        "    layers.Dense(units=20, activation='relu', input_shape=[input_shape]),\n",
        "    layers.Dropout(0.6),\n",
        "    layers.BatchNormalization(),\n",
        "    layers.Dense(units=20, activation='sigmoid', input_shape=[input_shape]),\n",
        "    #the layers output layers\n",
        "    layers.Dense(units=1)\n",
        "])\n",
        "\n",
        "model.compile(\n",
        "    optimizer='adam',\n",
        "    loss='mae',\n",
        ")\n",
        "\n",
        "history = model.fit(\n",
        "    x_train, y_train,\n",
        "    validation_data=(x_valid, y_valid),\n",
        "    batch_size=256,\n",
        "    epochs=500,\n",
        "    callbacks=[early_stopping],  #put your callbacks in a list\n",
        "    verbose=0,  #turn off training log\n",
        ")\n",
        "\n",
        "history_df = pd.DataFrame(history.history)\n",
        "history_df.loc[:,['loss', 'val_loss']].plot();\n",
        "print(\"Minimum validation loss: {}\".format(history_df['val_loss'].min()))\n",
        "\n"
      ],
      "execution_count": 11,
      "outputs": [
        {
          "output_type": "stream",
          "name": "stdout",
          "text": [
            "Minimum validation loss: 0.6989278197288513\n"
          ]
        },
        {
          "output_type": "display_data",
          "data": {
            "image/png": "[encoded data removed]",
            "text/plain": [
              "<Figure size 432x288 with 1 Axes>"
            ]
          },
          "metadata": {
            "needs_background": "light"
          }
        }
      ]
    },
    {
      "cell_type": "code",
      "metadata": {
        "id": "fTfmcE91RwuB"
      },
      "source": [
        "sample_df = red_wine.iloc[67,:].drop([\"quality\"])\n",
        "sample_df = pd.DataFrame(sample_df).T"
      ],
      "execution_count": 12,
      "outputs": []
    },
    {
      "cell_type": "code",
      "metadata": {
        "colab": {
          "base_uri": "https://localhost:8080/",
          "height": 80
        },
        "id": "JkuMxqtFSOVk",
        "outputId": "767af4ed-932c-4268-eb1f-013b6da51c00"
      },
      "source": [
        "sample_df"
      ],
      "execution_count": 13,
      "outputs": [
        {
          "output_type": "execute_result",
          "data": {
            "text/html": [
              "<div>\n",
              "<style scoped>\n",
              "    .dataframe tbody tr th:only-of-type {\n",
              "        vertical-align: middle;\n",
              "    }\n",
              "\n",
              "    .dataframe tbody tr th {\n",
              "        vertical-align: top;\n",
              "    }\n",
              "\n",
              "    .dataframe thead th {\n",
              "        text-align: right;\n",
              "    }\n",
              "</style>\n",
              "<table border=\"1\" class=\"dataframe\">\n",
              "  <thead>\n",
              "    <tr style=\"text-align: right;\">\n",
              "      <th></th>\n",
              "      <th>fixed acidity</th>\n",
              "      <th>volatile acidity</th>\n",
              "      <th>citric acid</th>\n",
              "      <th>residual sugar</th>\n",
              "      <th>chlorides</th>\n",
              "      <th>free sulfur dioxide</th>\n",
              "      <th>total sulfur dioxide</th>\n",
              "      <th>density</th>\n",
              "      <th>pH</th>\n",
              "      <th>sulphates</th>\n",
              "      <th>alcohol</th>\n",
              "    </tr>\n",
              "  </thead>\n",
              "  <tbody>\n",
              "    <tr>\n",
              "      <th>67</th>\n",
              "      <td>6.6</td>\n",
              "      <td>0.705</td>\n",
              "      <td>0.07</td>\n",
              "      <td>1.6</td>\n",
              "      <td>0.076</td>\n",
              "      <td>6.0</td>\n",
              "      <td>15.0</td>\n",
              "      <td>0.9962</td>\n",
              "      <td>3.44</td>\n",
              "      <td>0.58</td>\n",
              "      <td>10.7</td>\n",
              "    </tr>\n",
              "  </tbody>\n",
              "</table>\n",
              "</div>"
            ],
            "text/plain": [
              "    fixed acidity  volatile acidity  citric acid  ...    pH  sulphates  alcohol\n",
              "67            6.6             0.705         0.07  ...  3.44       0.58     10.7\n",
              "\n",
              "[1 rows x 11 columns]"
            ]
          },
          "metadata": {},
          "execution_count": 13
        }
      ]
    },
    {
      "cell_type": "code",
      "metadata": {
        "id": "AviOjvqrSPm-"
      },
      "source": [
        "sample_df = preprocessor.transform(sample_df)"
      ],
      "execution_count": 14,
      "outputs": []
    },
    {
      "cell_type": "code",
      "metadata": {
        "colab": {
          "base_uri": "https://localhost:8080/"
        },
        "id": "dT4CIzbjSWyD",
        "outputId": "bee15525-d822-40a0-adc2-360c3fec1293"
      },
      "source": [
        "sample_df"
      ],
      "execution_count": 15,
      "outputs": [
        {
          "output_type": "execute_result",
          "data": {
            "text/plain": [
              "array([[-0.98340909,  0.97635973, -1.03320167, -0.65000383, -0.22724007,\n",
              "        -0.95012729, -0.97008243, -0.28747747,  0.84675488, -0.44294421,\n",
              "         0.28086787]])"
            ]
          },
          "metadata": {},
          "execution_count": 15
        }
      ]
    },
    {
      "cell_type": "code",
      "metadata": {
        "colab": {
          "base_uri": "https://localhost:8080/"
        },
        "id": "fss5eVtZSaMB",
        "outputId": "a868573a-777c-46b5-9000-c38c5f79b873"
      },
      "source": [
        "model.predict(sample_df)"
      ],
      "execution_count": 16,
      "outputs": [
        {
          "output_type": "execute_result",
          "data": {
            "text/plain": [
              "array([[5.964031]], dtype=float32)"
            ]
          },
          "metadata": {},
          "execution_count": 16
        }
      ]
    },
    {
      "cell_type": "code",
      "metadata": {
        "colab": {
          "base_uri": "https://localhost:8080/"
        },
        "id": "34Xon5PJSe7P",
        "outputId": "6b6f8842-845d-44a4-aa96-ede7ac26bdae"
      },
      "source": [
        "red_wine.iloc[67,:]"
      ],
      "execution_count": 17,
      "outputs": [
        {
          "output_type": "execute_result",
          "data": {
            "text/plain": [
              "fixed acidity            6.6000\n",
              "volatile acidity         0.7050\n",
              "citric acid              0.0700\n",
              "residual sugar           1.6000\n",
              "chlorides                0.0760\n",
              "free sulfur dioxide      6.0000\n",
              "total sulfur dioxide    15.0000\n",
              "density                  0.9962\n",
              "pH                       3.4400\n",
              "sulphates                0.5800\n",
              "alcohol                 10.7000\n",
              "quality                  5.0000\n",
              "Name: 67, dtype: float64"
            ]
          },
          "metadata": {},
          "execution_count": 17
        }
      ]
    },
    {
      "cell_type": "code",
      "metadata": {
        "id": "qEumPEF4V_aF"
      },
      "source": [
        "sgd = SGDClassifier(penalty=None)\n",
        "sgd.fit(x_train, y_train)\n",
        "pred_sgd = sgd.predict(x_valid)"
      ],
      "execution_count": 18,
      "outputs": []
    },
    {
      "cell_type": "code",
      "metadata": {
        "colab": {
          "base_uri": "https://localhost:8080/"
        },
        "id": "QML_7Z_BWL_v",
        "outputId": "077085ea-d1fa-4854-e18c-f8d86f9fe09b"
      },
      "source": [
        "print(classification_report(y_valid, pred_sgd))"
      ],
      "execution_count": 19,
      "outputs": [
        {
          "output_type": "stream",
          "name": "stdout",
          "text": [
            "              precision    recall  f1-score   support\n",
            "\n",
            "           3       0.00      0.00      0.00         5\n",
            "           4       0.00      0.00      0.00        25\n",
            "           5       0.62      0.62      0.62       198\n",
            "           6       0.47      0.62      0.54       187\n",
            "           7       0.18      0.10      0.13        58\n",
            "           8       0.00      0.00      0.00         7\n",
            "\n",
            "    accuracy                           0.51       480\n",
            "   macro avg       0.21      0.22      0.21       480\n",
            "weighted avg       0.46      0.51      0.48       480\n",
            "\n"
          ]
        },
        {
          "output_type": "stream",
          "name": "stderr",
          "text": [
            "/usr/local/lib/python3.7/dist-packages/sklearn/metrics/_classification.py:1272: UndefinedMetricWarning: Precision and F-score are ill-defined and being set to 0.0 in labels with no predicted samples. Use `zero_division` parameter to control this behavior.\n",
            "  _warn_prf(average, modifier, msg_start, len(result))\n"
          ]
        }
      ]
    },
    {
      "cell_type": "code",
      "metadata": {
        "id": "PPc3P1S8XkWk"
      },
      "source": [
        "svc = SVC()\n",
        "svc.fit(x_train, y_train)\n",
        "pred_svc = svc.predict(x_valid)"
      ],
      "execution_count": 20,
      "outputs": []
    },
    {
      "cell_type": "code",
      "metadata": {
        "colab": {
          "base_uri": "https://localhost:8080/"
        },
        "id": "HGvpS83nXuWI",
        "outputId": "65439e9a-cbe1-4303-f0da-d987c2145bbc"
      },
      "source": [
        "print(classification_report(y_valid, pred_svc))"
      ],
      "execution_count": 21,
      "outputs": [
        {
          "output_type": "stream",
          "name": "stdout",
          "text": [
            "              precision    recall  f1-score   support\n",
            "\n",
            "           3       0.00      0.00      0.00         5\n",
            "           4       0.00      0.00      0.00        25\n",
            "           5       0.65      0.73      0.69       198\n",
            "           6       0.56      0.67      0.61       187\n",
            "           7       0.62      0.36      0.46        58\n",
            "           8       0.00      0.00      0.00         7\n",
            "\n",
            "    accuracy                           0.61       480\n",
            "   macro avg       0.31      0.29      0.29       480\n",
            "weighted avg       0.56      0.61      0.58       480\n",
            "\n"
          ]
        },
        {
          "output_type": "stream",
          "name": "stderr",
          "text": [
            "/usr/local/lib/python3.7/dist-packages/sklearn/metrics/_classification.py:1272: UndefinedMetricWarning: Precision and F-score are ill-defined and being set to 0.0 in labels with no predicted samples. Use `zero_division` parameter to control this behavior.\n",
            "  _warn_prf(average, modifier, msg_start, len(result))\n"
          ]
        }
      ]
    },
    {
      "cell_type": "code",
      "metadata": {
        "id": "Hsvp6RTyWy0p"
      },
      "source": [
        "param = {\n",
        "    'C': [0.10,0.81,0.95,12,1.12,1.21,1.30,1.43],\n",
        "    'kernel':['linear', 'rbf'],\n",
        "    'gamma' :[0.10,0.81,0.95,12,1.12,1.21,1.30,1.43]\n",
        "}\n",
        "grid_svc = GridSearchCV(svc, param_grid=param, scoring='accuracy', cv=10)"
      ],
      "execution_count": 22,
      "outputs": []
    },
    {
      "cell_type": "code",
      "metadata": {
        "colab": {
          "base_uri": "https://localhost:8080/"
        },
        "id": "fIb_NgtmXrKz",
        "outputId": "6f53a4cb-1119-403a-df91-5880b1b72f56"
      },
      "source": [
        "grid_svc.fit(x_train, y_train)"
      ],
      "execution_count": 23,
      "outputs": [
        {
          "output_type": "stream",
          "name": "stderr",
          "text": [
            "/usr/local/lib/python3.7/dist-packages/sklearn/model_selection/_split.py:667: UserWarning: The least populated class in y has only 5 members, which is less than n_splits=10.\n",
            "  % (min_groups, self.n_splits)), UserWarning)\n"
          ]
        },
        {
          "output_type": "execute_result",
          "data": {
            "text/plain": [
              "GridSearchCV(cv=10, error_score=nan,\n",
              "             estimator=SVC(C=1.0, break_ties=False, cache_size=200,\n",
              "                           class_weight=None, coef0=0.0,\n",
              "                           decision_function_shape='ovr', degree=3,\n",
              "                           gamma='scale', kernel='rbf', max_iter=-1,\n",
              "                           probability=False, random_state=None, shrinking=True,\n",
              "                           tol=0.001, verbose=False),\n",
              "             iid='deprecated', n_jobs=None,\n",
              "             param_grid={'C': [0.1, 0.81, 0.95, 12, 1.12, 1.21, 1.3, 1.43],\n",
              "                         'gamma': [0.1, 0.81, 0.95, 12, 1.12, 1.21, 1.3, 1.43],\n",
              "                         'kernel': ['linear', 'rbf']},\n",
              "             pre_dispatch='2*n_jobs', refit=True, return_train_score=False,\n",
              "             scoring='accuracy', verbose=0)"
            ]
          },
          "metadata": {},
          "execution_count": 23
        }
      ]
    },
    {
      "cell_type": "code",
      "metadata": {
        "colab": {
          "base_uri": "https://localhost:8080/"
        },
        "id": "i4hkA7XyYcWA",
        "outputId": "a60f16f5-16ba-4f93-ea57-cd26026ed591"
      },
      "source": [
        "grid_svc.best_params_\n"
      ],
      "execution_count": 24,
      "outputs": [
        {
          "output_type": "execute_result",
          "data": {
            "text/plain": [
              "{'C': 1.12, 'gamma': 0.81, 'kernel': 'rbf'}"
            ]
          },
          "metadata": {},
          "execution_count": 24
        }
      ]
    },
    {
      "cell_type": "code",
      "metadata": {
        "colab": {
          "base_uri": "https://localhost:8080/"
        },
        "id": "mQyQPbQfYkjO",
        "outputId": "666b3a3f-0363-400d-e0c1-05370d84a502"
      },
      "source": [
        "svc2 = SVC(C = 1.21, gamma =  0.92, kernel= 'rbf')\n",
        "svc2.fit(x_train, y_train)\n",
        "pred_svc2 = svc2.predict(x_valid)\n",
        "print(classification_report(y_valid, pred_svc2))"
      ],
      "execution_count": 25,
      "outputs": [
        {
          "output_type": "stream",
          "name": "stdout",
          "text": [
            "              precision    recall  f1-score   support\n",
            "\n",
            "           3       0.00      0.00      0.00         5\n",
            "           4       0.00      0.00      0.00        25\n",
            "           5       0.67      0.74      0.71       198\n",
            "           6       0.58      0.70      0.63       187\n",
            "           7       0.79      0.47      0.59        58\n",
            "           8       0.00      0.00      0.00         7\n",
            "\n",
            "    accuracy                           0.64       480\n",
            "   macro avg       0.34      0.32      0.32       480\n",
            "weighted avg       0.60      0.64      0.61       480\n",
            "\n"
          ]
        },
        {
          "output_type": "stream",
          "name": "stderr",
          "text": [
            "/usr/local/lib/python3.7/dist-packages/sklearn/metrics/_classification.py:1272: UndefinedMetricWarning: Precision and F-score are ill-defined and being set to 0.0 in labels with no predicted samples. Use `zero_division` parameter to control this behavior.\n",
            "  _warn_prf(average, modifier, msg_start, len(result))\n"
          ]
        }
      ]
    },
    {
      "cell_type": "code",
      "metadata": {
        "id": "nxO9ia9m7oZI"
      },
      "source": [
        ""
      ],
      "execution_count": 25,
      "outputs": []
    }
  ]
}